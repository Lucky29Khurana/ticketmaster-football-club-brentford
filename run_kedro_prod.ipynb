{
 "cells": [
  {
   "cell_type": "code",
   "execution_count": null,
   "id": "b4bff3f5-a38c-4ecb-95da-3cd95ca69b0a",
   "metadata": {},
   "outputs": [],
   "source": [
    "%pip install -r \"/Workspace/Repos/PSI-analytics/ticketmaster-football-club-brentford/requirements.txt\""
   ]
  },
  {
   "cell_type": "code",
   "execution_count": null,
   "id": "9cab57c6-850e-4e5f-be0c-b736c1d02ec6",
   "metadata": {},
   "outputs": [],
   "source": [
    "dbutils.library.restartPython()"
   ]
  },
  {
   "cell_type": "code",
   "execution_count": null,
   "id": "05622ae6-964c-4a5c-8712-6998cce0919d",
   "metadata": {},
   "outputs": [],
   "source": [
    "%reload_kedro /Workspace/Repos/PSI-analytics/ticketmaster-football-club-brentford --env=s3_prod\n",
    "pipelines"
   ]
  },
  {
   "cell_type": "code",
   "execution_count": null,
   "id": "b21c624b-0891-4b45-9264-494c8d11fb5d",
   "metadata": {},
   "outputs": [],
   "source": [
    "context"
   ]
  },
  {
   "cell_type": "code",
   "execution_count": null,
   "id": "a73afffc-ab5f-4ed9-bbdb-2e53344f263b",
   "metadata": {},
   "outputs": [],
   "source": [
    "session.run(pipeline_name='01_athena_ingestion')"
   ]
  },
  {
   "cell_type": "code",
   "execution_count": null,
   "id": "396ee7bf-4dc1-4faf-950e-3f8beaff7d0c",
   "metadata": {},
   "outputs": [],
   "source": [
    "%reload_kedro /Workspace/Repos/PSI-analytics/ticketmaster-football-club-brentford --env=s3_prod\n",
    "session.run(pipeline_name='02_ticket_event_aggregation')"
   ]
  },
  {
   "cell_type": "code",
   "execution_count": null,
   "id": "4ae77612-34ce-436d-b79c-9b0989c4cf46",
   "metadata": {},
   "outputs": [],
   "source": [
    "%reload_kedro /Workspace/Repos/PSI-analytics/ticketmaster-football-club-brentford --env=s3_prod\n",
    "session.run(pipeline_name='03_member_categorisation')"
   ]
  },
  {
   "cell_type": "code",
   "execution_count": null,
   "id": "42738e1f-28a3-4572-b8b2-cef09b5fb86d",
   "metadata": {},
   "outputs": [],
   "source": [
    "%reload_kedro /Workspace/Repos/PSI-analytics/ticketmaster-football-club-brentford --env=s3_prod\n",
    "session.run(pipeline_name='04_descriptive_analytics')"
   ]
  },
  {
   "cell_type": "code",
   "execution_count": null,
   "id": "2a1a2b3f-bab9-4661-adad-0c21537b45b5",
   "metadata": {},
   "outputs": [],
   "source": [
    "%reload_kedro /Workspace/Repos/PSI-analytics/ticketmaster-football-club-brentford --env=s3_prod\n",
    "session.run(pipeline_name='05_event_feature_creation')"
   ]
  },
  {
   "cell_type": "code",
   "execution_count": null,
   "id": "b2b8fa80-fdb4-4b98-91a1-ac2c185ff49e",
   "metadata": {},
   "outputs": [],
   "source": [
    "%reload_kedro /Workspace/Repos/PSI-analytics/ticketmaster-football-club-brentford --env=s3_prod\n",
    "session.run(pipeline_name='06_member_feature_creation')"
   ]
  },
  {
   "cell_type": "code",
   "execution_count": null,
   "id": "6fb37b72-a464-402e-b68c-916f057cdbef",
   "metadata": {},
   "outputs": [],
   "source": [
    "%reload_kedro /Workspace/Repos/PSI-analytics/ticketmaster-football-club-brentford --env=s3_prod\n",
    "session.run(\n",
    "    pipeline_name='07_live_forecasting_and_reporting',\n",
    "    tags=['forecasting']\n",
    ")"
   ]
  },
  {
   "cell_type": "code",
   "execution_count": null,
   "id": "8bc9d365-e390-49cc-a0fd-474ccece1de4",
   "metadata": {},
   "outputs": [],
   "source": [
    "%reload_kedro /Workspace/Repos/PSI-analytics/ticketmaster-football-club-brentford --env=s3_prod\n",
    "session.run(\n",
    "    pipeline_name='08_member_segmentation',\n",
    "    tags=['sth_segmenting', 'cmg_segmenting']\n",
    ")"
   ]
  },
  {
   "cell_type": "code",
   "execution_count": null,
   "id": "2af57693-a3cc-48f6-b5e6-90d3742ae4c9",
   "metadata": {},
   "outputs": [],
   "source": [
    "%reload_kedro /Workspace/Repos/PSI-analytics/ticketmaster-football-club-brentford --env=s3_prod\n",
    "session.run(\n",
    "    pipeline_name='09_season_ticket_attendance_prediction',\n",
    "    tags=['predicting']\n",
    ")"
   ]
  },
  {
   "cell_type": "code",
   "execution_count": null,
   "id": "db2b11b0-cfd6-4a57-bcb0-a92ed8568136",
   "metadata": {},
   "outputs": [],
   "source": [
    "%reload_kedro /Workspace/Repos/PSI-analytics/ticketmaster-football-club-brentford --env=s3_prod\n",
    "session.run(\n",
    "    pipeline_name='10_reporting_outputs',\n",
    ")"
   ]
  }
 ],
 "metadata": {
  "kernelspec": {
   "display_name": "Python 3 (ipykernel)",
   "language": "python",
   "name": "python3"
  },
  "language_info": {
   "codemirror_mode": {
    "name": "ipython",
    "version": 3
   },
   "file_extension": ".py",
   "mimetype": "text/x-python",
   "name": "python",
   "nbconvert_exporter": "python",
   "pygments_lexer": "ipython3",
   "version": "3.10.14"
  }
 },
 "nbformat": 4,
 "nbformat_minor": 5
}
