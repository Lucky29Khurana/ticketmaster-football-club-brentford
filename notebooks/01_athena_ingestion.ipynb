{
 "cells": [
  {
   "cell_type": "code",
   "execution_count": null,
   "id": "88fb6e50-230f-44fa-98c2-924c648c40cb",
   "metadata": {},
   "outputs": [],
   "source": [
    "import pandas as pd\n",
    "%reload_kedro --env=s3-develop\n",
    "cat = context.catalog"
   ]
  },
  {
   "cell_type": "code",
   "execution_count": null,
   "id": "676c5af7-ce24-49de-9cdd-7d12c1dd7663",
   "metadata": {},
   "outputs": [],
   "source": [
    "# pd.set_option('display.max_rows', None)\n",
    "# pd.set_option('display.max_columns', 100)"
   ]
  },
  {
   "cell_type": "markdown",
   "id": "fb2284f3-99ce-4578-be45-7ce0e8003d74",
   "metadata": {},
   "source": [
    "## fomatted_event_df"
   ]
  },
  {
   "cell_type": "code",
   "execution_count": null,
   "id": "3ad84b73-384c-4f6c-9fcc-df8ee66c36e0",
   "metadata": {},
   "outputs": [],
   "source": [
    "formatted_event_df = cat.load('formatted_event_df')"
   ]
  },
  {
   "cell_type": "code",
   "execution_count": null,
   "id": "768f4555-8705-47f3-bc9b-bfcfa5073c9c",
   "metadata": {},
   "outputs": [],
   "source": [
    "formatted_event_df"
   ]
  },
  {
   "cell_type": "markdown",
   "id": "ed3b38d1-3a97-4437-8d6d-431dc3739b22",
   "metadata": {},
   "source": [
    "## all_transactions_df"
   ]
  },
  {
   "cell_type": "code",
   "execution_count": null,
   "id": "0e4c1cb1-6eeb-4ce5-9233-7921b0df7168",
   "metadata": {},
   "outputs": [],
   "source": [
    "all_transactions_df = cat.load('all_transactions_df')"
   ]
  },
  {
   "cell_type": "code",
   "execution_count": null,
   "id": "0fd59d0f-3a47-43f2-8ab0-54415109af8f",
   "metadata": {},
   "outputs": [],
   "source": [
    "all_transactions_df"
   ]
  },
  {
   "cell_type": "markdown",
   "id": "e685b132-3d52-4b36-a4d1-0eade43dd130",
   "metadata": {},
   "source": [
    "## formatted_season_card_df"
   ]
  },
  {
   "cell_type": "code",
   "execution_count": null,
   "id": "2f03a61d-984c-4b75-b241-16db51fbafa7",
   "metadata": {},
   "outputs": [],
   "source": [
    "formatted_season_card_df = cat.load('formatted_season_card_df')"
   ]
  },
  {
   "cell_type": "code",
   "execution_count": null,
   "id": "2e42d2dc-68a4-4f53-9474-0a3352d04944",
   "metadata": {},
   "outputs": [],
   "source": [
    "formatted_season_card_df"
   ]
  },
  {
   "cell_type": "markdown",
   "id": "c399baf2-55b7-4d20-9e69-fc5678dd8623",
   "metadata": {},
   "source": [
    "## formatted_ticketscan_df"
   ]
  },
  {
   "cell_type": "code",
   "execution_count": null,
   "id": "d8863e09-ce8d-47a5-8316-134d6e49a7af",
   "metadata": {},
   "outputs": [],
   "source": [
    "formatted_ticketscan_df = cat.load('formatted_ticketscan_df')"
   ]
  },
  {
   "cell_type": "code",
   "execution_count": null,
   "id": "2a1f025d-33f5-4438-bddb-b137619e0ade",
   "metadata": {},
   "outputs": [],
   "source": [
    "formatted_ticketscan_df"
   ]
  }
 ],
 "metadata": {
  "kernelspec": {
   "display_name": "Python 3 (ipykernel)",
   "language": "python",
   "name": "python3"
  },
  "language_info": {
   "codemirror_mode": {
    "name": "ipython",
    "version": 3
   },
   "file_extension": ".py",
   "mimetype": "text/x-python",
   "name": "python",
   "nbconvert_exporter": "python",
   "pygments_lexer": "ipython3",
   "version": "3.10.14"
  }
 },
 "nbformat": 4,
 "nbformat_minor": 5
}
